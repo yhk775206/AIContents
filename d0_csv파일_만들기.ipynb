{
  "cells": [
    {
      "cell_type": "markdown",
      "metadata": {
        "id": "view-in-github",
        "colab_type": "text"
      },
      "source": [
        "<a href=\"https://colab.research.google.com/github/yhk775206/AIContents/blob/main/d0_csv%ED%8C%8C%EC%9D%BC_%EB%A7%8C%EB%93%A4%EA%B8%B0.ipynb\" target=\"_parent\"><img src=\"https://colab.research.google.com/assets/colab-badge.svg\" alt=\"Open In Colab\"/></a>"
      ]
    },
    {
      "cell_type": "markdown",
      "metadata": {
        "id": "jSZro8Y4rSim"
      },
      "source": [
        "* WikiPainting.csv -> {.csv, .csv, .csv} 분할\n",
        "### Input\n",
        "* total.csv\n",
        "* div_set\n",
        "    * 분할 데이터 정보\n",
        "    * 예) {'train': 0.70, 'val': 0.15, 'test':0.15}  \n",
        "* key field\n",
        "    * 클래스로 삼을 필드\n",
        "    * 예) 'technique' or 'style' or 'artist_slug' or ...\n",
        "* del_n\n",
        "    * 이하 개수 갖는 클래스는 삭제\n",
        "* limit_n\n",
        "    * 각 클래스가 가질 수 있는 최대 데이터 개수\n",
        "* similar classes\n",
        "    * 비슷한 클래스 집합\n",
        "    * 예) 'lithograph', 'lithography'\n",
        "* del_classes\n",
        "    * 제거할 클래스 집합\n",
        "    * 예) 'woodcut'\n",
        "* rand_shuffle_idx\n",
        "    * 클래스 분할 전 셔플된 인덱스\n",
        "    * rand(0, 전체 데이터 개수)\n",
        "    * 처음에 고정시키는 게 좋음\n",
        "    \n",
        "### Output\n",
        "* .csv 파일들\n",
        "    * 예) Train.csv, Val.csv, Test.csv\n",
        "* 출력값(데이터 정보)\n",
        "    * (prev) 변경 전 정보\n",
        "        * total cnt: 전체 데이터 개수\n",
        "        * classes: 클래스 종류\n",
        "        * class_cnt: 각 클래스의 데이터 개수\n",
        "    * (post) 변경 후 정보\n",
        "        * total cnt, classes, class_cnt"
      ]
    },
    {
      "cell_type": "code",
      "execution_count": null,
      "metadata": {
        "id": "kYSh9utWrSip"
      },
      "outputs": [],
      "source": [
        "import os\n",
        "import matplotlib.pyplot as plt\n",
        "import pandas as pd\n",
        "import numpy as np\n",
        "\n",
        "cwd = os.getcwd()\n",
        "savepath = cwd + '/../../wiki-data_provider/' + 'images/'"
      ]
    },
    {
      "cell_type": "code",
      "execution_count": null,
      "metadata": {
        "id": "4Hxp7C5irSiq"
      },
      "outputs": [],
      "source": [
        "# path 의 csv 파일 안의 데이터 개수만 리턴\n",
        "def GetN(i_total_csv_path):\n",
        "    with open(i_total_csv_path) as csvfile:\n",
        "        info = pd.read_csv(csvfile)\n",
        "        return len(info)\n",
        "    return 0\n",
        "\n",
        "# * i_info: .csv 로부터 읽은 자료\n",
        "def GetImgFilename(i_info, idx):\n",
        "    image_id = i_info['image_id'][idx]\n",
        "    imgfilename = savepath + image_id + \".jpg\"  \n",
        "    return imgfilename"
      ]
    },
    {
      "cell_type": "code",
      "execution_count": null,
      "metadata": {
        "id": "l4RnDcQArSiq"
      },
      "outputs": [],
      "source": [
        "# * 클래스별 원소 개수 세기\n",
        "# * 파라미터\n",
        "#  ㄴi_info: .csv 파일로 읽은 정보\n",
        "#  ㄴi_key_field: 클래스 분류 기준 (예: 'technique')\n",
        "#  ㄴi_invalid_arr: 무효파일 인덱스 리스트\n",
        "def CountClassCnt(i_info, i_key_field, i_invalid_arr):\n",
        "    class_cnt = dict()\n",
        "    for i in range(len(i_info)):\n",
        "        if i in i_invalid_arr:\n",
        "            continue\n",
        "        \n",
        "        key_val = i_info[i_key_field][i]\n",
        "        \n",
        "        if key_val not in class_cnt:\n",
        "            class_cnt[key_val] = 1\n",
        "        else:\n",
        "            class_cnt[key_val] += 1\n",
        "    return class_cnt\n",
        "\n",
        "# 모든 클래스의 모든 원소의 개수의 합\n",
        "def SumClassCnt(i_class_cnt):\n",
        "    mysum = 0\n",
        "    for val in i_class_cnt:\n",
        "        mysum += i_class_cnt[val]\n",
        "    return mysum"
      ]
    },
    {
      "cell_type": "code",
      "execution_count": null,
      "metadata": {
        "id": "bXUL_8eRrSiq"
      },
      "outputs": [],
      "source": [
        "# info의 field 값을 바꾼다: from_val -> to_val\n",
        "# 예) info[i]['technique']: 'oil on canvas' ->'oil'\n",
        "def ChangeFieldVal(i_info, i_key_field, \n",
        "                   from_val, to_val):\n",
        "    for i in range(len(i_info)):  # 모든 데이터에 대해\n",
        "        curr_val = i_info[i_key_field][i]\n",
        "        if (curr_val==from_val):\n",
        "            i_info[i_key_field][i] = to_val\n",
        "            \n",
        "# 중복 클래스 병합\n",
        "# * 병합할 클래스 원소개수(to_val) += 병합될 클래스 원소 개수(from_val)\n",
        "# 병합될 클래스 원소 개수 0 \n",
        "def MergeSimilarClass(i_info, i_key_field, \n",
        "                      i_similar_classes):     \n",
        "    # 각 리스트의 [0] 로 다른 클래스의 개수 합치기\n",
        "    for myset in i_similar_classes:\n",
        "        to_val = myset[0]        # 커질 클래스\n",
        "        for i in range(1, len(myset)):  # index 1 ~ 끝\n",
        "            from_val = myset[i]  # 없어질 클래스\n",
        "            ChangeFieldVal(i_info, i_key_field, from_val, to_val)  # 모든 클래스에 대해 필드값 변경\n",
        "            \n",
        "            \n",
        "# n개 이하 클래스 제거된 '목록' 제작\n",
        "def MakeClassDelUnderN(i_class_cnt, i_del_n, i_limit_n, i_del_classes):\n",
        "    cnt = 0\n",
        "    classes = []\n",
        "    dummy = dict(i_class_cnt)  # dummy\n",
        "    for i, c in enumerate(dummy):\n",
        "        if ( (i_class_cnt[c]<i_del_n)  # 100 개 이하\n",
        "            or (type(c)!=str)          # nan(type 부재)\n",
        "            or (c in i_del_classes)):    # 제거된 클래스 목록에 있음\n",
        "            \n",
        "            del i_class_cnt[c]  # 제거\n",
        "            continue\n",
        "        if (i_class_cnt[c]>=i_limit_n):  # 클래스의 데이터 개수 제한   여기!!\n",
        "            print(\"%s class: %d -> %d\" %(c, i_class_cnt[c], i_limit_n))\n",
        "            i_class_cnt[c] = i_limit_n\n",
        "        classes.append(c)\n",
        "        cnt += 1\n",
        "    nclass = cnt\n",
        "        \n",
        "    classes.sort()         # class 이름순 정렬\n",
        "        \n",
        "    class_to_idx = dict()  # class_to_idx 설정\n",
        "    for i, c in enumerate(classes):\n",
        "        class_to_idx[c] = i\n",
        "    \n",
        "    return classes, nclass, class_to_idx"
      ]
    },
    {
      "cell_type": "code",
      "execution_count": null,
      "metadata": {
        "id": "RRrPwsYVrSir"
      },
      "outputs": [],
      "source": [
        "# * Divide data into div_set\n",
        "# * 파라미터\n",
        "#  ㄴi_invalid_arr: 무효파일 인덱스 리스트\n",
        "# 주의: % 연산을 각 클래스에 대해서 하므로, 숫자가 깔끔히 떨어지지 않는 경우가 있음. 이 경우, train 데이터로 할당함.\n",
        "def DivideData(i_info, i_div_set, i_key_field,\n",
        "               i_limit_n,\n",
        "               i_class_cnt,\n",
        "               i_rand_shuff=None,\n",
        "               i_invalid_arr=None):\n",
        "    print(\"Divide Data(total:%d)..\" %len(i_info))\n",
        "    \n",
        "    nset = len(i_div_set)\n",
        "    # 1. set_cnt, set_info 구성    \n",
        "    set_cnt = dict()\n",
        "    set_info = dict()\n",
        "    for dset in i_div_set:      # {'train', 'val', 'test'}\n",
        "        set_cnt[dset] = dict()\n",
        "        set_info[dset] = list()\n",
        "    \n",
        "    # 2. 모든 info 마다 set 지정. set_cnt++, set_info update\n",
        "    if ( type(i_rand_shuff)==np.ndarray ):\n",
        "        fordummy = i_rand_shuff\n",
        "    else:\n",
        "        fordummy = range(len(i_info))\n",
        "    \n",
        "    #for i in range(len(i_info)):\n",
        "    for i in fordummy:\n",
        "        if ( type(i_invalid_arr)==list ):\n",
        "            if i in i_invalid_arr:    # 무효파일 체크\n",
        "                continue\n",
        "            \n",
        "        row = dict()  # 한 개 데이터 정보\n",
        "        for c in i_info.columns:  # 'image_id', 'artist_slug', ...\n",
        "            row[c] = i_info[c][i]  # c: field, i: index\n",
        "            \n",
        "        # 거르기 1: 유효파일 검사\n",
        "#         imgfilename = GetImgFilename(i_info, i)\n",
        "#         is_val_file = IsValidFile(imgfilename)    \n",
        "#         if (is_val_file==False):\n",
        "#             continue        \n",
        "        # 거르기 2: nan\n",
        "        key_val = i_info[i_key_field][i]  # 예) technique 中 1\n",
        "        if (type(key_val)!=str):  \n",
        "            continue\n",
        "        # 거르기 3: custumized class 에 없다면\n",
        "        if key_val not in i_class_cnt:\n",
        "            continue\n",
        "        \n",
        "        # {Train, Valid, Test} 셋으로 나누기\n",
        "        allocated = False\n",
        "        for dset in i_div_set:      \n",
        "            if key_val not in set_cnt[dset]:\n",
        "                set_cnt[dset][key_val] = 0\n",
        "            \n",
        "            target_n = int( float(i_class_cnt[key_val])*i_div_set[dset] + 0.5 )  # 목표 수집 데이터 개수(예: train=total*0.7)\n",
        "            if ( set_cnt[dset][key_val] >= target_n ):\n",
        "                continue\n",
        "            set_cnt[dset][key_val] += 1\n",
        "            set_info[dset].append(row)\n",
        "            \n",
        "            allocated = True\n",
        "            #print(\"\\n[%d] %s\" %(i, dset))\n",
        "            #print(\"%s: %d/%d (total: %d)\" %(key_val, set_cnt[dset][key_val], target_n, i_class_cnt[key_val]))\n",
        "            break  # 어딘가 할당 됐으면 바로 나가기\n",
        "                    \n",
        "#         if (allocated==False):  # % 계산으로 인해 {test, train, val}아무 곳도 할당되지 않았다면 -> train\n",
        "#             set_cnt['train'][key_val] += 1\n",
        "#             set_info['train'].append(row)\n",
        "#             #print(\"\\n!Not allocated [%d] %s\" %(i, dset))\n",
        "#             #print(\"%s: %d/%d (total: %d)\" %(key_val, set_cnt[dset][key_val], target_n, i_class_cnt[key_val]))\n",
        "    \n",
        "    # 각 {test, train, val} 의 각 클래스 별 원소 개수 프린팅\n",
        "    #all_classes = set(i_class_cnt)\n",
        "    mysum = 0\n",
        "    for dset in i_div_set:\n",
        "        nset = len(set_info[dset])\n",
        "        mysum += nset\n",
        "        print(\"%s: %d\" %(dset, nset))\n",
        "#         # 모든 클래스에 대해\n",
        "#         for key_val in all_classes:\n",
        "#             print(\"ㄴ%s: %d -> %d\" %(key_val, i_class_cnt[key_val], set_cnt[dset][key_val]))\n",
        "    print(\"Total: %d\" %mysum)\n",
        "        \n",
        "    # 3. return set_info\n",
        "    return set_info"
      ]
    },
    {
      "cell_type": "code",
      "execution_count": null,
      "metadata": {
        "id": "qwK7JeIorSis"
      },
      "outputs": [],
      "source": [
        "from PIL import Image\n",
        "import imageio\n",
        "\n",
        "# file name -> 유효파일 검사\n",
        "def IsValidFile(fname):\n",
        "    # 오픈될 수 있는 파일인지\n",
        "    try:\n",
        "        Image.open(fname)\n",
        "    except:\n",
        "        return False\n",
        "    \n",
        "#     # shape 이 (wid, hei, 3) 인지\n",
        "#     try:\n",
        "#         currimg = imageio.imread(fname)\n",
        "#     except:\n",
        "#         return False\n",
        "    \n",
        "#     #currimg = imread(fname)\n",
        "#     if ( len(currimg.shape)!=3 or currimg.shape[2]!=3 ):\n",
        "#         return False\n",
        "    \n",
        "    return True"
      ]
    },
    {
      "cell_type": "code",
      "execution_count": null,
      "metadata": {
        "id": "1M9E73ikrSis"
      },
      "outputs": [],
      "source": [
        "# 무효 파일 목록 제작\n",
        "def MakeInvalList(i_info):\n",
        "    n = len(i_info) # 여기\n",
        "    print(\"Invalid Checking..(Total %d)\" %n)\n",
        "    invalid_arr = []\n",
        "    \n",
        "    inv_fname = \"invalid_idx.txt\"\n",
        "    \n",
        "    # option 1. 파일읽기\n",
        "    if os.path.isfile(inv_fname):\n",
        "        print(\"Read file: %s\" %inv_fname)\n",
        "        f = open(inv_fname)\n",
        "        lines = f.readlines()\n",
        "        for line in lines:\n",
        "            tmp = int(line)\n",
        "            invalid_arr.append(tmp)\n",
        "            print(\"%d,\" %tmp),\n",
        "        \n",
        "    # option 2. 계산 + 파일 쓰기\n",
        "    else:\n",
        "        f = open(inv_fname, 'w')\n",
        "        for i in range( n ):\n",
        "            fname = GetImgFilename(i_info, i)\n",
        "            isval = IsValidFile(fname)\n",
        "            if(isval==False):\n",
        "                data = \"%d\\n\" %i\n",
        "                f.write(data)\n",
        "                invalid_arr.append(i)\n",
        "                print(\"%d,\" %i),\n",
        "                #print(\"invaild: %d %s\" %(i, fname))\n",
        "    f.close()\n",
        "    \n",
        "    print(\"\\n무효파일: %d 개\" %len(invalid_arr))\n",
        "    return invalid_arr\n",
        "\n",
        "# 무효파일 아닌 파일 출력하기 (확인용)\n",
        "def VisValid(i_info, i_inval_arr):\n",
        "    n = len(i_info)   # 여기\n",
        "    \n",
        "    print(\"total: %d\" %n)\n",
        "    for i in range( n ):\n",
        "        if i%100==0:\n",
        "            print (\"%d..\" %(i)),\n",
        "        if i in i_inval_arr:\n",
        "            continue\n",
        "            \n",
        "        fname = GetImgFilename(i_info, i)\n",
        "        if os.path.isfile(fname):\n",
        "            img = imageio.imread(fname)\n",
        "            if ( len(img.shape)!=3 or img.shape[2]!=3 ):\n",
        "                plt.imshow(img)\n",
        "                plt.title(\"[%d] %s\" %(i, img.shape))            \n",
        "                #plt.title(\"%s, %s\" %(image_id, key_val))\n",
        "                plt.show()\n",
        "                \n",
        "                print(\"isvalid?\"),\n",
        "                print(IsValidFile(fname))"
      ]
    },
    {
      "cell_type": "code",
      "execution_count": null,
      "metadata": {
        "scrolled": true,
        "id": "eWrZi8NcrSit",
        "outputId": "39b2b59b-05fa-476e-8679-249be87500b7"
      },
      "outputs": [
        {
          "name": "stdout",
          "output_type": "stream",
          "text": [
            "Invalid Checking..(Total 101086)\n",
            "Read file: invalid_idx.txt\n",
            "685, 749, 863, 1232, 1728, 1842, 2598, 2693, 3222, 3261, 5503, 5512, 5996, 6059, 6201, 6252, 6259, 6366, 6378, 6657, 6675, 6689, 7020, 7180, 7451, 7828, 7925, 8389, 8485, 8861, 9049, 9096, 9240, 9513, 9631, 9738, 10015, 10026, 10377, 10604, 10622, 11034, 11105, 11805, 11857, 11994, 12634, 12714, 12827, 12937, 12954, 13061, 13348, 13720, 13776, 13993, 14099, 14385, 15140, 16272, 16279, 16300, 16416, 16468, 16510, 16529, 16788, 17474, 17504, 17693, 18736, 18784, 19386, 19524, 19765, 19996, 20017, 20032, 20050, 20915, 20961, 20963, 21326, 21492, 22031, 22056, 22177, 22212, 22248, 22289, 22500, 22574, 22777, 23072, 23090, 23116, 23126, 23153, 23207, 23398, 23638, 23960, 24412, 24715, 24799, 24820, 24853, 24866, 25006, 25827, 25897, 26067, 26408, 26672, 27476, 27955, 28073, 28456, 28463, 28575, 28976, 29017, 29245, 29321, 29822, 30751, 31308, 32051, 32072, 32096, 32275, 32295, 32948, 33021, 33032, 33071, 33091, 33276, 33682, 33683, 33752, 33942, 34183, 34285, 34302, 34932, 34950, 35203, 35473, 36575, 37061, 37509, 38313, 38324, 38359, 39261, 39344, 39365, 39495, 39658, 40272, 40389, 40960, 40980, 41216, 41306, 41688, 41818, 42667, 42838, 42881, 44029, 44741, 44962, 44965, 45074, 45391, 45735, 45933, 46485, 47323, 47482, 47498, 47576, 47828, 48575, 49693, 51379, 51990, 52043, 52185, 52307, 53622, 54472, 54528, 55178, 56048, 56540, 56939, 57073, 57785, 58024, 58028, 58041, 58044, 58045, 58157, 58173, 58190, 58365, 58417, 58465, 58597, 59008, 59038, 59277, 59802, 59833, 59977, 60088, 60143, 60845, 60864, 61902, 62018, 62132, 63395, 63438, 64188, 64352, 64564, 64666, 64864, 64978, 65104, 65303, 65335, 65352, 65681, 65901, 66825, 66859, 66966, 67296, 67420, 67437, 68030, 68203, 69013, 69096, 69119, 69135, 69142, 69215, 69226, 69235, 69256, 69460, 70477, 70740, 70996, 71383, 71987, 72724, 72741, 73157, 73213, 73342, 73422, 73777, 73784, 73855, 74989, 75470, 76083, 76253, 76717, 77045, 77151, 77289, 77775, 77841, 77859, 78539, 78900, 79120, 79427, 79976, 80423, 81163, 81320, 81571, 82096, 82769, 82988, 83137, 83171, 83354, 84076, 84091, 84117, 85131, 85292, 85453, 85547, 86236, 86404, 86483, 86508, 86521, 86683, 87371, 87723, 88106, 88462, 88500, 88695, 88795, 88981, 89147, 89327, 89503, 89639, 90412, 90548, 90556, 90558, 90563, 90566, 90571, 90573, 90576, 90581, 90587, 90588, 90591, 90601, 90602, 90604, 90611, 90613, 90614, 90616, 90623, 90625, 90627, 90635, 90637, 90646, 90657, 90660, 90670, 90749, 90776, 90839, 90854, 92042, 92325, 92549, 95079, 95771, 96023, 96054, 96072, 96463, 96816, 97239, 97578, 97785, 98953, 99010, 99076, 99241, 99398, 99431, 99603, 99977, 100101, 100921, \n",
            "무효파일: 379 개\n",
            "[685, 749, 863, 1232, 1728, 1842, 2598, 2693, 3222, 3261, 5503, 5512, 5996, 6059, 6201, 6252, 6259, 6366, 6378, 6657, 6675, 6689, 7020, 7180, 7451, 7828, 7925, 8389, 8485, 8861, 9049, 9096, 9240, 9513, 9631, 9738, 10015, 10026, 10377, 10604, 10622, 11034, 11105, 11805, 11857, 11994, 12634, 12714, 12827, 12937, 12954, 13061, 13348, 13720, 13776, 13993, 14099, 14385, 15140, 16272, 16279, 16300, 16416, 16468, 16510, 16529, 16788, 17474, 17504, 17693, 18736, 18784, 19386, 19524, 19765, 19996, 20017, 20032, 20050, 20915, 20961, 20963, 21326, 21492, 22031, 22056, 22177, 22212, 22248, 22289, 22500, 22574, 22777, 23072, 23090, 23116, 23126, 23153, 23207, 23398, 23638, 23960, 24412, 24715, 24799, 24820, 24853, 24866, 25006, 25827, 25897, 26067, 26408, 26672, 27476, 27955, 28073, 28456, 28463, 28575, 28976, 29017, 29245, 29321, 29822, 30751, 31308, 32051, 32072, 32096, 32275, 32295, 32948, 33021, 33032, 33071, 33091, 33276, 33682, 33683, 33752, 33942, 34183, 34285, 34302, 34932, 34950, 35203, 35473, 36575, 37061, 37509, 38313, 38324, 38359, 39261, 39344, 39365, 39495, 39658, 40272, 40389, 40960, 40980, 41216, 41306, 41688, 41818, 42667, 42838, 42881, 44029, 44741, 44962, 44965, 45074, 45391, 45735, 45933, 46485, 47323, 47482, 47498, 47576, 47828, 48575, 49693, 51379, 51990, 52043, 52185, 52307, 53622, 54472, 54528, 55178, 56048, 56540, 56939, 57073, 57785, 58024, 58028, 58041, 58044, 58045, 58157, 58173, 58190, 58365, 58417, 58465, 58597, 59008, 59038, 59277, 59802, 59833, 59977, 60088, 60143, 60845, 60864, 61902, 62018, 62132, 63395, 63438, 64188, 64352, 64564, 64666, 64864, 64978, 65104, 65303, 65335, 65352, 65681, 65901, 66825, 66859, 66966, 67296, 67420, 67437, 68030, 68203, 69013, 69096, 69119, 69135, 69142, 69215, 69226, 69235, 69256, 69460, 70477, 70740, 70996, 71383, 71987, 72724, 72741, 73157, 73213, 73342, 73422, 73777, 73784, 73855, 74989, 75470, 76083, 76253, 76717, 77045, 77151, 77289, 77775, 77841, 77859, 78539, 78900, 79120, 79427, 79976, 80423, 81163, 81320, 81571, 82096, 82769, 82988, 83137, 83171, 83354, 84076, 84091, 84117, 85131, 85292, 85453, 85547, 86236, 86404, 86483, 86508, 86521, 86683, 87371, 87723, 88106, 88462, 88500, 88695, 88795, 88981, 89147, 89327, 89503, 89639, 90412, 90548, 90556, 90558, 90563, 90566, 90571, 90573, 90576, 90581, 90587, 90588, 90591, 90601, 90602, 90604, 90611, 90613, 90614, 90616, 90623, 90625, 90627, 90635, 90637, 90646, 90657, 90660, 90670, 90749, 90776, 90839, 90854, 92042, 92325, 92549, 95079, 95771, 96023, 96054, 96072, 96463, 96816, 97239, 97578, 97785, 98953, 99010, 99076, 99241, 99398, 99431, 99603, 99977, 100101, 100921]\n"
          ]
        }
      ],
      "source": [
        "csv_path = cwd + '/../../wiki-data_provider/' + 'wikipaintings_oct2013.csv'\n",
        "with open(csv_path) as csvfile:\n",
        "    info = pd.read_csv(csvfile)\n",
        "    inval_arr = MakeInvalList(info)\n",
        "    print(inval_arr)"
      ]
    },
    {
      "cell_type": "code",
      "execution_count": null,
      "metadata": {
        "scrolled": true,
        "id": "SHHaCmvJrSit"
      },
      "outputs": [],
      "source": [
        "# VisValid(info, inval_arr)"
      ]
    },
    {
      "cell_type": "code",
      "execution_count": null,
      "metadata": {
        "id": "qHuDgvJtrSiu"
      },
      "outputs": [],
      "source": [
        ""
      ]
    },
    {
      "cell_type": "code",
      "execution_count": null,
      "metadata": {
        "id": "T-bNAUKrrSiu"
      },
      "outputs": [],
      "source": [
        ""
      ]
    },
    {
      "cell_type": "code",
      "execution_count": null,
      "metadata": {
        "id": "0JdnPnehrSiu"
      },
      "outputs": [],
      "source": [
        "def CustumizeNDivideData(i_total_csv_path, i_div_set, i_key_field, \n",
        "               i_del_n, i_limit_n, i_similar_classes=None, i_del_classes=None, i_rand_shuff=None):\n",
        "    with open(i_total_csv_path) as csvfile:\n",
        "        info = pd.read_csv(csvfile)\n",
        "        \n",
        "        # 0. 무효파일 목록 제작\n",
        "        print(\"=== 0. 무효파일 목록 제작 or 읽기 ===\")\n",
        "        inval_arr = MakeInvalList(info)\n",
        "        \n",
        "        # 1. 모든 클래스 종류 & 각 클래스 원소 개수\n",
        "        print(\"=== 1. 모든 클래스 종류 & 각 클래스 원소 개수 ===\")\n",
        "        prev_classes = set(info[i_key_field])  # 모든 클래스 종류\n",
        "        prev_nclass = len(prev_classes)\n",
        "        prev_class_cnt = CountClassCnt(info, i_key_field, inval_arr)\n",
        "        print(\"=== Prev data ===\")\n",
        "        print(\"# of all data: %d\" %SumClassCnt(prev_class_cnt))\n",
        "        print(\"# of classes: %d\" %prev_nclass)\n",
        "        print(\"--- # of each class elements ---\")\n",
        "        print(prev_class_cnt)\n",
        "        \n",
        "        # 2. 중복 클래스 병합\n",
        "        print(\"\\n=== 2. 중복 클래스 병합 & 각 클래스 원소 개수 ===\")\n",
        "        post_class_cnt = dict(prev_class_cnt)\n",
        "        MergeSimilarClass(info, i_key_field, i_similar_classes)\n",
        "        # +) 중복 클래스 병합 후 각 클래스 원소 개수 파악\n",
        "        post_class_cnt = CountClassCnt(info, i_key_field, inval_arr)\n",
        "        print(post_class_cnt)        \n",
        "        \n",
        "        # 3. {'n개 이하 클래스', 'nan 클래스', '지정된 클래스'} 제거된 '목록' 제작\n",
        "        print(\"\\n=== 3. {'n개 이하 클래스', 'nan 클래스', '지정된 클래스'} 제거된 '목록' 제작 ===\")\n",
        "        post_classes, post_nclass, class_to_idx = MakeClassDelUnderN(post_class_cnt, i_del_n, i_limit_n, i_del_classes)\n",
        "        print(\"# of all data: %d\" %SumClassCnt(post_class_cnt))\n",
        "        print(\"# of classes: %d\" %post_nclass)\n",
        "        print(\"--- # of each class elements ---\")\n",
        "        print(post_class_cnt)\n",
        "        print(\"--- class_to_idx ---\")\n",
        "        print(class_to_idx)\n",
        "        \n",
        "        # 4. div_set 으로 나누기\n",
        "        print(\"\\n=== 4. div_set 으로 나누기 ===\")\n",
        "        set_info = DivideData(info, div_set, key_field, i_limit_n, post_class_cnt, i_rand_shuff, inval_arr)\n",
        "                \n",
        "        return info, set_info"
      ]
    },
    {
      "cell_type": "markdown",
      "metadata": {
        "id": "fSsNO1tyrSiv"
      },
      "source": [
        "### 1. Parameter setting"
      ]
    },
    {
      "cell_type": "code",
      "execution_count": null,
      "metadata": {
        "id": "AghYGn8lrSiv"
      },
      "outputs": [],
      "source": [
        "# csv_path = cwd + '/../wiki-data_provider/' + 'wikipaintings_oct2013.csv'\n",
        "# div_set = {'train': 0.70, 'val': 0.15, 'test':0.15}\n",
        "# #div_set = {'train': 1.0, 'val': 0.0, 'test':0.0}\n",
        "# key_field = 'technique'\n",
        "# del_n = 600  #80\n",
        "# limit_n = 1000\n",
        "# similar_classes = [['oil', 'oil on copper', 'oil on canvas', 'oil on panel'],\n",
        "#                   ['pencil', 'colored pencils'],\n",
        "#                   ['watercolor', 'watercolour'],\n",
        "#                   ['lithograph', 'lithography'],\n",
        "#                   ['tempera', 'tempera on canvas', 'egg tempera on panel'],\n",
        "#                   ['ink', 'indian ink']]\n",
        "# del_classes = ['woodcut', 'woodblock print', \n",
        "#                'etching', 'lithograph']   # 염료를 통해 스트로크를 남기는 media 가 아님. 부식 동판술, 석판화.\n",
        "\n",
        "# is_shuffle = True\n",
        "# rand_shuff_idx = None\n",
        "# if is_shuffle:\n",
        "#     n = GetN(csv_path)\n",
        "#     rand_shuff_idx = np.random.choice(n, n, replace=False)   # 0~n 사이 중 n 개 골라라(중복불허)"
      ]
    },
    {
      "cell_type": "code",
      "execution_count": null,
      "metadata": {
        "id": "nj2ra-u6rSiv"
      },
      "outputs": [],
      "source": [
        "csv_path = cwd + '/../../wiki-data_provider/' + 'wikipaintings_oct2013.csv'\n",
        "div_set = {'train': 0.70, 'val': 0.15, 'test':0.15}\n",
        "#div_set = {'train': 1.0, 'val': 0.0, 'test':0.0}\n",
        "key_field = 'technique'\n",
        "del_n = 230\n",
        "limit_n = 1000\n",
        "similar_classes = [['oil', 'oil on copper', 'oil on canvas', 'oil on panel'],\n",
        "                  ['pencil', 'colored pencils'],\n",
        "                  ['watercolor', 'watercolour'],\n",
        "                  ['lithograph', 'lithography'],\n",
        "                  ['tempera', 'tempera on canvas', 'egg tempera on panel'],\n",
        "                  ['ink', 'indian ink']]\n",
        "del_classes = ['woodcut', 'woodblock print', \n",
        "               'gouache', 'woodcut', 'collage', 'chalk'\n",
        "              ]\n",
        "\n",
        "is_shuffle = True\n",
        "rand_shuff_idx = None\n",
        "if is_shuffle:\n",
        "    n = GetN(csv_path)\n",
        "    rand_shuff_idx = np.random.choice(n, n, replace=False)   # 0~n 사이 중 n 개 골라라(중복불허)"
      ]
    },
    {
      "cell_type": "markdown",
      "metadata": {
        "id": "i-_cLADurSiv"
      },
      "source": [
        "### 2. 데이터 나누기"
      ]
    },
    {
      "cell_type": "code",
      "execution_count": null,
      "metadata": {
        "scrolled": true,
        "id": "KhuPaa25rSiv",
        "outputId": "64bcbb7c-0cbf-4816-f954-033ac23420a5"
      },
      "outputs": [
        {
          "name": "stdout",
          "output_type": "stream",
          "text": [
            "=== 0. 무효파일 목록 제작 or 읽기 ===\n",
            "Invalid Checking..(Total 101086)\n",
            "Read file: invalid_idx.txt\n",
            "685, 749, 863, 1232, 1728, 1842, 2598, 2693, 3222, 3261, 5503, 5512, 5996, 6059, 6201, 6252, 6259, 6366, 6378, 6657, 6675, 6689, 7020, 7180, 7451, 7828, 7925, 8389, 8485, 8861, 9049, 9096, 9240, 9513, 9631, 9738, 10015, 10026, 10377, 10604, 10622, 11034, 11105, 11805, 11857, 11994, 12634, 12714, 12827, 12937, 12954, 13061, 13348, 13720, 13776, 13993, 14099, 14385, 15140, 16272, 16279, 16300, 16416, 16468, 16510, 16529, 16788, 17474, 17504, 17693, 18736, 18784, 19386, 19524, 19765, 19996, 20017, 20032, 20050, 20915, 20961, 20963, 21326, 21492, 22031, 22056, 22177, 22212, 22248, 22289, 22500, 22574, 22777, 23072, 23090, 23116, 23126, 23153, 23207, 23398, 23638, 23960, 24412, 24715, 24799, 24820, 24853, 24866, 25006, 25827, 25897, 26067, 26408, 26672, 27476, 27955, 28073, 28456, 28463, 28575, 28976, 29017, 29245, 29321, 29822, 30751, 31308, 32051, 32072, 32096, 32275, 32295, 32948, 33021, 33032, 33071, 33091, 33276, 33682, 33683, 33752, 33942, 34183, 34285, 34302, 34932, 34950, 35203, 35473, 36575, 37061, 37509, 38313, 38324, 38359, 39261, 39344, 39365, 39495, 39658, 40272, 40389, 40960, 40980, 41216, 41306, 41688, 41818, 42667, 42838, 42881, 44029, 44741, 44962, 44965, 45074, 45391, 45735, 45933, 46485, 47323, 47482, 47498, 47576, 47828, 48575, 49693, 51379, 51990, 52043, 52185, 52307, 53622, 54472, 54528, 55178, 56048, 56540, 56939, 57073, 57785, 58024, 58028, 58041, 58044, 58045, 58157, 58173, 58190, 58365, 58417, 58465, 58597, 59008, 59038, 59277, 59802, 59833, 59977, 60088, 60143, 60845, 60864, 61902, 62018, 62132, 63395, 63438, 64188, 64352, 64564, 64666, 64864, 64978, 65104, 65303, 65335, 65352, 65681, 65901, 66825, 66859, 66966, 67296, 67420, 67437, 68030, 68203, 69013, 69096, 69119, 69135, 69142, 69215, 69226, 69235, 69256, 69460, 70477, 70740, 70996, 71383, 71987, 72724, 72741, 73157, 73213, 73342, 73422, 73777, 73784, 73855, 74989, 75470, 76083, 76253, 76717, 77045, 77151, 77289, 77775, 77841, 77859, 78539, 78900, 79120, 79427, 79976, 80423, 81163, 81320, 81571, 82096, 82769, 82988, 83137, 83171, 83354, 84076, 84091, 84117, 85131, 85292, 85453, 85547, 86236, 86404, 86483, 86508, 86521, 86683, 87371, 87723, 88106, 88462, 88500, 88695, 88795, 88981, 89147, 89327, 89503, 89639, 90412, 90548, 90556, 90558, 90563, 90566, 90571, 90573, 90576, 90581, 90587, 90588, 90591, 90601, 90602, 90604, 90611, 90613, 90614, 90616, 90623, 90625, 90627, 90635, 90637, 90646, 90657, 90660, 90670, 90749, 90776, 90839, 90854, 92042, 92325, 92549, 95079, 95771, 96023, 96054, 96072, 96463, 96816, 97239, 97578, 97785, 98953, 99010, 99076, 99241, 99398, 99431, 99603, 99977, 100101, 100921, \n",
            "무효파일: 379 개\n",
            "=== 1. 모든 클래스 종류 & 각 클래스 원소 개수 ===\n",
            "=== Prev data ===\n",
            "# of all data: 100707\n",
            "# of classes: 110\n",
            "--- # of each class elements ---\n",
            "{nan: 59925, 'cameo': 1, 'gold': 14, 'sanguine': 8, 'tempera': 1423, 'crayon': 88, 'encaustic': 4, 'fluorescent paints': 36, 'varnish': 3, 'etching': 782, 'aquatint': 71, 'stainless steel': 1, 'masking tape': 1, 'watercolour': 90, 'wood': 10, 'oil on copper': 2, 'colored pencils': 8, 'serigraph': 2, 'photography': 46, 'watercolor': 2367, 'leadpoint': 5, 'spray paint': 5, 'pyroxylin': 32, 'majolica': 9, 'tempera on canvas': 1, 'photogram': 8, 'vitrage': 9, 'assemblage': 11, 'stump': 4, 'collage': 269, 'whitewash': 1, 'color varnish': 4, 'mural': 10, 'watercolour and gouache on paper': 1, 'lithography': 555, 'woodblock': 32, 'pastel': 1071, 'felt-tip pen': 9, 'woodblock print': 117, 'pen': 99, 'grisaille': 5, 'emulsion': 1, 'embroidery': 4, 'print': 8, 'fluorescent paint': 1, 'Vinavyl glue': 1, 'intaglio': 2, 'lacquer': 2, 'watercolour and bodycolour with gum arabic': 1, 'oil on canvas': 527, 'magna': 99, 'cardboard': 3, 'objet trouve': 8, 'bronze': 33, 'engraving': 237, 'lithograph': 131, 'woodcut': 310, 'lavis': 2, 'wash': 22, 'frottage': 2, 'brush': 8, 'glitter': 1, 'stencil': 1, 'synthetic polymer paint on canvas': 3, 'unknown': 3, 'gloss': 1, 'plastic': 6, 'wax': 5, 'watercolour and bodycolour on paper': 2, 'silkscreen': 58, 'white': 5, 'porcelain enamel': 1, 'charcoal': 125, 'metalpoint': 16, 'onyx': 2, 'glass': 5, 'indian ink': 102, 'chisel': 13, 'photomosaic': 34, 'chalk': 641, 'graphite': 39, 'marble': 21, 'glue based colours on canvas': 1, 'pencil': 748, 'sepia': 21, 'graffiti': 1, 'ink': 841, 'stained glass': 7, 'drypoint': 21, 'silverpoint': 1, 'sanguin': 2, 'mosaique': 12, 'acrylic': 208, 'plaster': 2, 'photomontage': 12, 'oil': 27717, 'mixed technique': 40, 'screenprint': 16, 'linocut': 9, 'fresco': 945, 'cement': 1, 'egg tempera on panel': 1, 'enamel': 16, 'gouache': 412, 'tusche': 2, 'metal': 1, 'oil on panel': 3, 'coal': 17, 'relief': 3, 'ready-made': 22}\n",
            "\n",
            "=== 2. 중복 클래스 병합 & 각 클래스 원소 개수 ===\n",
            "{nan: 59925, 'cameo': 1, 'gold': 14, 'sanguine': 8, 'crayon': 88, 'encaustic': 4, 'fluorescent paints': 36, 'varnish': 3, 'etching': 782, 'aquatint': 71, 'stainless steel': 1, 'masking tape': 1, 'wood': 10, 'serigraph': 2, 'photography': 46, 'watercolor': 2457, 'leadpoint': 5, 'spray paint': 5, 'pyroxylin': 32, 'majolica': 9, 'frottage': 2, 'vitrage': 9, 'assemblage': 11, 'stump': 4, 'collage': 269, 'whitewash': 1, 'color varnish': 4, 'mural': 10, 'watercolour and gouache on paper': 1, 'woodblock': 32, 'pastel': 1071, 'felt-tip pen': 9, 'woodblock print': 117, 'pen': 99, 'grisaille': 5, 'emulsion': 1, 'embroidery': 4, 'print': 8, 'fluorescent paint': 1, 'Vinavyl glue': 1, 'intaglio': 2, 'lacquer': 2, 'watercolour and bodycolour with gum arabic': 1, 'magna': 99, 'cardboard': 3, 'objet trouve': 8, 'bronze': 33, 'engraving': 237, 'lithograph': 686, 'woodcut': 310, 'lavis': 2, 'wash': 22, 'photogram': 8, 'brush': 8, 'glitter': 1, 'stencil': 1, 'synthetic polymer paint on canvas': 3, 'unknown': 3, 'gloss': 1, 'plastic': 6, 'wax': 5, 'watercolour and bodycolour on paper': 2, 'silkscreen': 58, 'white': 5, 'porcelain enamel': 1, 'charcoal': 125, 'sepia': 21, 'onyx': 2, 'gouache': 412, 'tempera': 1425, 'chisel': 13, 'photomosaic': 34, 'chalk': 641, 'graphite': 39, 'marble': 21, 'glue based colours on canvas': 1, 'pencil': 756, 'metalpoint': 16, 'graffiti': 1, 'ink': 943, 'stained glass': 7, 'drypoint': 21, 'silverpoint': 1, 'sanguin': 2, 'mosaique': 12, 'acrylic': 208, 'plaster': 2, 'photomontage': 12, 'oil': 28249, 'mixed technique': 40, 'screenprint': 16, 'linocut': 9, 'fresco': 945, 'cement': 1, 'enamel': 16, 'glass': 5, 'tusche': 2, 'metal': 1, 'coal': 17, 'relief': 3, 'ready-made': 22}\n",
            "\n",
            "=== 3. {'n개 이하 클래스', 'nan 클래스', '지정된 클래스'} 제거된 '목록' 제작 ===\n",
            "tempera class: 1425 -> 1000\n",
            "watercolor class: 2457 -> 1000\n",
            "pastel class: 1071 -> 1000\n",
            "oil class: 28249 -> 1000\n",
            "# of all data: 8349\n",
            "# of classes: 10\n",
            "--- # of each class elements ---\n",
            "{'etching': 782, 'watercolor': 1000, 'pastel': 1000, 'engraving': 237, 'lithograph': 686, 'tempera': 1000, 'pencil': 756, 'ink': 943, 'oil': 1000, 'fresco': 945}\n",
            "--- class_to_idx ---\n",
            "{'engraving': 0, 'pastel': 6, 'oil': 5, 'etching': 1, 'pencil': 7, 'tempera': 8, 'fresco': 2, 'watercolor': 9, 'lithograph': 4, 'ink': 3}\n",
            "\n",
            "=== 4. div_set 으로 나누기 ===\n",
            "Divide Data(total:101086)..\n",
            "test: 1252\n",
            "train: 5844\n",
            "val: 1250\n",
            "Total: 8346\n"
          ]
        }
      ],
      "source": [
        "orig_info, set_info = CustumizeNDivideData(csv_path, div_set, key_field,\n",
        "                                           del_n, limit_n, similar_classes, del_classes,\n",
        "                                           rand_shuff_idx)"
      ]
    },
    {
      "cell_type": "markdown",
      "metadata": {
        "id": "xZamVxzsrSiv"
      },
      "source": [
        "## 3. csv 파일 쓰기"
      ]
    },
    {
      "cell_type": "code",
      "execution_count": null,
      "metadata": {
        "id": "T-PnfNNFrSiw"
      },
      "outputs": [],
      "source": [
        "import csv\n",
        "# 각 set_info[test, train, val] 에 대해 csv 파일 생성\n",
        "def WriteCSV(i_info, i_a_set_info, i_path):\n",
        "    with open(i_path, 'w') as csvfile:\n",
        "        writer = csv.DictWriter(csvfile, fieldnames=i_info.columns)\n",
        "        writer.writeheader()\n",
        "        for row in i_a_set_info:\n",
        "            writer.writerow(row)"
      ]
    },
    {
      "cell_type": "code",
      "execution_count": null,
      "metadata": {
        "id": "JrM_ISzurSiw",
        "outputId": "07ea1fe9-9e64-4404-fe21-dcb5e8a8af33"
      },
      "outputs": [
        {
          "name": "stdout",
          "output_type": "stream",
          "text": [
            "wikipaintings_oct2013_technique+test+15.csv\n",
            "wikipaintings_oct2013_technique+train+70.csv\n",
            "wikipaintings_oct2013_technique+val+15.csv\n"
          ]
        }
      ],
      "source": [
        "for ds in div_set:\n",
        "    path = \"wikipaintings_oct2013_%s+%s+%d.csv\" %(key_field, ds, div_set[ds]*100)\n",
        "    print(path)\n",
        "    WriteCSV(orig_info, set_info[ds], path)"
      ]
    },
    {
      "cell_type": "markdown",
      "metadata": {
        "id": "vPe2oF5XrSiw"
      },
      "source": [
        "## 4. visualize"
      ]
    },
    {
      "cell_type": "code",
      "execution_count": null,
      "metadata": {
        "id": "ipVaHL-xrSiw"
      },
      "outputs": [],
      "source": [
        "from scipy.misc import imread, imresize\n",
        "#savepath = cwd + '/../wiki-data_provider/' + 'images/'\n",
        "def VizSample(i_info, i_key_field, i_n=1):\n",
        "    #classes = set(i_info[i_key_field])\n",
        "    #print(classes)\n",
        "    \n",
        "    visit = dict()  # 시각화 몇 개 했는 지\n",
        "    for i in range(len(i_info)):\n",
        "        key_val = i_info[i_key_field][i]\n",
        "        if key_val not in visit:\n",
        "            visit[key_val] = 1\n",
        "        else:\n",
        "            visit[key_val] += 1\n",
        "           \n",
        "        # 시각화\n",
        "        if visit[key_val] <= i_n:\n",
        "            imgfilename = GetImgFilename(i_info, i)\n",
        "            print(\"%s (%d/%d)\" %(key_val, visit[key_val], i_n))\n",
        "            if os.path.isfile(imgfilename):\n",
        "                img = imread(imgfilename)\n",
        "                plt.imshow(img)\n",
        "                #plt.title(\"%s, %s\" %(image_id, key_val))\n",
        "                plt.show()\n",
        "# 비효율적([i] 위치만 바꿈)\n",
        "def VizSample2(i_info, i_key_field, i_n=1):\n",
        "    #classes = set(i_info[i_key_field])\n",
        "    #print(classes)\n",
        "    \n",
        "    visit = dict()  # 시각화 몇 개 했는 지\n",
        "    for i in range(len(i_info)):\n",
        "        key_val = i_info[i][i_key_field]\n",
        "        if key_val not in visit:\n",
        "            visit[key_val] = 1\n",
        "        else:\n",
        "            visit[key_val] += 1\n",
        "           \n",
        "        # 시각화\n",
        "        if visit[key_val] <= i_n:\n",
        "            imgfilename = GetImgFilename(i_info, i)\n",
        "            print(\"%s (%d/%d)\" %(key_val, visit[key_val], i_n))\n",
        "            if os.path.isfile(imgfilename):\n",
        "                img = imread(imgfilename)\n",
        "                plt.imshow(img)\n",
        "                #plt.title(\"%s, %s\" %(image_id, key_val))\n",
        "                plt.show()"
      ]
    },
    {
      "cell_type": "code",
      "execution_count": null,
      "metadata": {
        "scrolled": true,
        "id": "kFuT68JArSiw"
      },
      "outputs": [],
      "source": [
        "with open(csv_path) as csvfile:\n",
        "    info = pd.read_csv(csvfile)\n",
        "    VizSample(info, key_field, 2)"
      ]
    },
    {
      "cell_type": "code",
      "execution_count": null,
      "metadata": {
        "scrolled": true,
        "id": "ET440fbCrSiw"
      },
      "outputs": [],
      "source": [
        "#set_info['train'][0]\n",
        "VizSample2(set_info['train'], key_field, 2)"
      ]
    },
    {
      "cell_type": "code",
      "execution_count": null,
      "metadata": {
        "id": "XOWQRi_trSix"
      },
      "outputs": [],
      "source": [
        ""
      ]
    }
  ],
  "metadata": {
    "kernelspec": {
      "display_name": "Python 2",
      "language": "python",
      "name": "python2"
    },
    "language_info": {
      "codemirror_mode": {
        "name": "ipython",
        "version": 2
      },
      "file_extension": ".py",
      "mimetype": "text/x-python",
      "name": "python",
      "nbconvert_exporter": "python",
      "pygments_lexer": "ipython2",
      "version": "2.7.14"
    },
    "colab": {
      "name": "d0.csv파일 만들기.ipynb",
      "provenance": [],
      "include_colab_link": true
    }
  },
  "nbformat": 4,
  "nbformat_minor": 0
}